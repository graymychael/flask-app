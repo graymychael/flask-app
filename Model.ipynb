{
 "cells": [
  {
   "cell_type": "code",
   "execution_count": 8,
   "id": "3eafefd6-d551-4761-af51-17246a2b4a5b",
   "metadata": {},
   "outputs": [],
   "source": [
    "import pandas as pd\n",
    "from sklearn.linear_model import LogisticRegression"
   ]
  },
  {
   "cell_type": "code",
   "execution_count": 9,
   "id": "7351063d-1e99-43ea-8aa3-12ca94d031f1",
   "metadata": {},
   "outputs": [],
   "source": [
    "# create df\n",
    "train = pd.read_csv('titanic.csv') # change file path"
   ]
  },
  {
   "cell_type": "code",
   "execution_count": 10,
   "id": "0a107731-8877-494e-a584-7eb3a7bc9bbd",
   "metadata": {},
   "outputs": [],
   "source": [
    "# drop null values\n",
    "train.dropna(inplace=True)"
   ]
  },
  {
   "cell_type": "code",
   "execution_count": 11,
   "id": "fce2a715-de05-4ccd-8e15-94caa5327369",
   "metadata": {},
   "outputs": [],
   "source": [
    "# features and target\n",
    "target = 'Survived'\n",
    "features = ['Pclass', 'Age', 'SibSp', 'Fare']"
   ]
  },
  {
   "cell_type": "code",
   "execution_count": 12,
   "id": "89afa57c-1256-439d-972f-670114a669d3",
   "metadata": {},
   "outputs": [],
   "source": [
    "# X matrix, y vector\n",
    "X = train[features]\n",
    "y = train[target]"
   ]
  },
  {
   "cell_type": "code",
   "execution_count": 13,
   "id": "a09560d6-69c0-477a-989a-8e65a5e74f87",
   "metadata": {},
   "outputs": [
    {
     "data": {
      "text/plain": [
       "0.7103825136612022"
      ]
     },
     "execution_count": 13,
     "metadata": {},
     "output_type": "execute_result"
    }
   ],
   "source": [
    "# model\n",
    "model = LogisticRegression()\n",
    "model.fit(X,y)\n",
    "model.score(X,y)"
   ]
  },
  {
   "cell_type": "code",
   "execution_count": 14,
   "id": "eccedf49-367a-49b9-88ba-edc7862ea353",
   "metadata": {},
   "outputs": [],
   "source": [
    "import pickle\n",
    "pickle.dump(model, open('model.pkl','wb'))"
   ]
  }
 ],
 "metadata": {
  "kernelspec": {
   "display_name": "Python 3 (ipykernel)",
   "language": "python",
   "name": "python3"
  },
  "language_info": {
   "codemirror_mode": {
    "name": "ipython",
    "version": 3
   },
   "file_extension": ".py",
   "mimetype": "text/x-python",
   "name": "python",
   "nbconvert_exporter": "python",
   "pygments_lexer": "ipython3",
   "version": "3.9.7"
  }
 },
 "nbformat": 4,
 "nbformat_minor": 5
}
